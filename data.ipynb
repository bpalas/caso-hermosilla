{
 "cells": [
  {
   "cell_type": "code",
   "execution_count": 2,
   "metadata": {},
   "outputs": [
    {
     "data": {
      "text/plain": [
       "True"
      ]
     },
     "execution_count": 2,
     "metadata": {},
     "output_type": "execute_result"
    }
   ],
   "source": [
    "import pandas as pd\n",
    "import json\n",
    "import sys\n",
    "import datetime\n",
    "import shutil\n",
    "import os\n",
    "\n",
    "import datetime\n",
    "\n",
    "\n",
    "\n",
    "from google.cloud import storage, bigquery\n",
    "\n",
    "\n",
    "load_dotenv() # Cargar las variables de entorno desde el archivo .env"
   ]
  },
  {
   "cell_type": "markdown",
   "metadata": {},
   "source": [
    "# Bigquery"
   ]
  },
  {
   "cell_type": "code",
   "execution_count": 11,
   "metadata": {},
   "outputs": [],
   "source": [
    "REGION = \"us-central1\"\n",
    "PROJECT_ID = \"constitucion-20210416\"\n",
    "BIGQUERY = \"master\"\n",
    "TABLE = \"news_eventregistry\""
   ]
  },
  {
   "cell_type": "code",
   "execution_count": null,
   "metadata": {},
   "outputs": [],
   "source": [
    "!gcloud config set project $PROJECT_ID\n",
    "!gcloud auth login # Cloud SDK\n",
    "!gcloud auth application-default login"
   ]
  },
  {
   "cell_type": "code",
   "execution_count": 4,
   "metadata": {},
   "outputs": [],
   "source": [
    "# Configura la conexión a BigQuery\n",
    "client = bigquery.Client()"
   ]
  },
  {
   "cell_type": "code",
   "execution_count": 12,
   "metadata": {},
   "outputs": [],
   "source": [
    "query = \"\"\"\n",
    "SELECT \n",
    "    title, \n",
    "    body, \n",
    "    date, \n",
    "    url, \n",
    "    source.title AS source_title, \n",
    "    source.dataType AS source_dataType, \n",
    "    source.uri AS source_uri, \n",
    "    time, \n",
    "    dateTime \n",
    "FROM \n",
    "    `constitucion-20210416.master.news_eventregistry` \n",
    "WHERE \n",
    "    EXTRACT(MONTH FROM date) = 7 \n",
    "    AND EXTRACT(YEAR FROM date) = 2024 \"\"\"\n",
    "\n",
    "# Ejecuta la consulta\n",
    "query_job = client.query(query)"
   ]
  },
  {
   "cell_type": "code",
   "execution_count": null,
   "metadata": {},
   "outputs": [],
   "source": [
    "query_job.result()"
   ]
  },
  {
   "cell_type": "code",
   "execution_count": 14,
   "metadata": {},
   "outputs": [],
   "source": [
    "df = query_job.to_dataframe()"
   ]
  },
  {
   "cell_type": "code",
   "execution_count": 15,
   "metadata": {},
   "outputs": [
    {
     "data": {
      "text/html": [
       "<div>\n",
       "<style scoped>\n",
       "    .dataframe tbody tr th:only-of-type {\n",
       "        vertical-align: middle;\n",
       "    }\n",
       "\n",
       "    .dataframe tbody tr th {\n",
       "        vertical-align: top;\n",
       "    }\n",
       "\n",
       "    .dataframe thead th {\n",
       "        text-align: right;\n",
       "    }\n",
       "</style>\n",
       "<table border=\"1\" class=\"dataframe\">\n",
       "  <thead>\n",
       "    <tr style=\"text-align: right;\">\n",
       "      <th></th>\n",
       "      <th>title</th>\n",
       "      <th>body</th>\n",
       "      <th>date</th>\n",
       "      <th>url</th>\n",
       "      <th>source_title</th>\n",
       "      <th>source_dataType</th>\n",
       "      <th>source_uri</th>\n",
       "      <th>time</th>\n",
       "      <th>dateTime</th>\n",
       "    </tr>\n",
       "  </thead>\n",
       "  <tbody>\n",
       "    <tr>\n",
       "      <th>0</th>\n",
       "      <td>Revelan a cuánto asciende la fortuna de Belind...</td>\n",
       "      <td>Desde que Christian Nodal y Ángela Aguilar gri...</td>\n",
       "      <td>2024-07-01</td>\n",
       "      <td>https://www.lared.cl/2024/noticias/revelan-a-c...</td>\n",
       "      <td>La Red</td>\n",
       "      <td>news</td>\n",
       "      <td>lared.cl</td>\n",
       "      <td>16:15:22</td>\n",
       "      <td>2024-07-01 16:15:22+00:00</td>\n",
       "    </tr>\n",
       "    <tr>\n",
       "      <th>1</th>\n",
       "      <td>Cuatro consejos de Harvard para incluir en la ...</td>\n",
       "      <td>Los expertos en nutrición de la entidad compar...</td>\n",
       "      <td>2024-07-01</td>\n",
       "      <td>https://www.encancha.cl/enlahora/bienestar/202...</td>\n",
       "      <td>En Cancha</td>\n",
       "      <td>news</td>\n",
       "      <td>encancha.cl</td>\n",
       "      <td>17:34:57</td>\n",
       "      <td>2024-07-01 17:34:57+00:00</td>\n",
       "    </tr>\n",
       "    <tr>\n",
       "      <th>2</th>\n",
       "      <td>\"Nace y el doctor me dice 'no es recomendable ...</td>\n",
       "      <td>\"Hoy puedo hablarlo sin llorar a moco tendido....</td>\n",
       "      <td>2024-07-01</td>\n",
       "      <td>https://glamorama.latercera.com/noticias/2024/...</td>\n",
       "      <td>Glamorama</td>\n",
       "      <td>news</td>\n",
       "      <td>glamorama.latercera.com</td>\n",
       "      <td>18:33:15</td>\n",
       "      <td>2024-07-01 18:33:15+00:00</td>\n",
       "    </tr>\n",
       "    <tr>\n",
       "      <th>3</th>\n",
       "      <td>\"El me quería tirar por el balcón... '¡Por fav...</td>\n",
       "      <td>\"Siempre me pegaba en la cara. Es como que él ...</td>\n",
       "      <td>2024-07-01</td>\n",
       "      <td>https://glamorama.latercera.com/noticias/2024/...</td>\n",
       "      <td>Glamorama</td>\n",
       "      <td>news</td>\n",
       "      <td>glamorama.latercera.com</td>\n",
       "      <td>02:29:58</td>\n",
       "      <td>2024-07-01 02:29:58+00:00</td>\n",
       "    </tr>\n",
       "    <tr>\n",
       "      <th>4</th>\n",
       "      <td>Llevaban 25 años juntos y se \"desencontraron c...</td>\n",
       "      <td>\"La vida cambia\", es una verdad que mencionó J...</td>\n",
       "      <td>2024-07-01</td>\n",
       "      <td>https://glamorama.latercera.com/sin-categoria/...</td>\n",
       "      <td>Glamorama</td>\n",
       "      <td>news</td>\n",
       "      <td>glamorama.latercera.com</td>\n",
       "      <td>02:14:50</td>\n",
       "      <td>2024-07-01 02:14:50+00:00</td>\n",
       "    </tr>\n",
       "    <tr>\n",
       "      <th>...</th>\n",
       "      <td>...</td>\n",
       "      <td>...</td>\n",
       "      <td>...</td>\n",
       "      <td>...</td>\n",
       "      <td>...</td>\n",
       "      <td>...</td>\n",
       "      <td>...</td>\n",
       "      <td>...</td>\n",
       "      <td>...</td>\n",
       "    </tr>\n",
       "    <tr>\n",
       "      <th>52976</th>\n",
       "      <td>Declaran culpable a Eduardo Macaya por dos del...</td>\n",
       "      <td>Fue condenado como autor de dos delitos de abu...</td>\n",
       "      <td>2024-07-10</td>\n",
       "      <td>https://www.elrancaguino.cl/2024/07/10/declara...</td>\n",
       "      <td>El Rancagüino</td>\n",
       "      <td>news</td>\n",
       "      <td>elrancaguino.cl</td>\n",
       "      <td>19:49:58</td>\n",
       "      <td>2024-07-10 19:49:58+00:00</td>\n",
       "    </tr>\n",
       "    <tr>\n",
       "      <th>52977</th>\n",
       "      <td>Gran Hermano Argentina definió a su ganador: s...</td>\n",
       "      <td>Este domingo la versión trasandina de Gran Her...</td>\n",
       "      <td>2024-07-08</td>\n",
       "      <td>https://www.biobiochile.cl/noticias/espectacul...</td>\n",
       "      <td>BioBioChile</td>\n",
       "      <td>news</td>\n",
       "      <td>biobiochile.cl</td>\n",
       "      <td>20:14:09</td>\n",
       "      <td>2024-07-08 20:14:09+00:00</td>\n",
       "    </tr>\n",
       "    <tr>\n",
       "      <th>52978</th>\n",
       "      <td>\"El huaso Waldo\": televidentes de Gran Hermano...</td>\n",
       "      <td>El reality de CHV Gran Hermano 2 ha generado c...</td>\n",
       "      <td>2024-07-13</td>\n",
       "      <td>https://www.biobiochile.cl/noticias/espectacul...</td>\n",
       "      <td>BioBioChile</td>\n",
       "      <td>news</td>\n",
       "      <td>biobiochile.cl</td>\n",
       "      <td>16:31:38</td>\n",
       "      <td>2024-07-13 16:31:38+00:00</td>\n",
       "    </tr>\n",
       "    <tr>\n",
       "      <th>52979</th>\n",
       "      <td>Con el regreso de Messi al gol: Argentina venc...</td>\n",
       "      <td>La Albiceleste ganó 2-0 con goles de Julián Ál...</td>\n",
       "      <td>2024-07-10</td>\n",
       "      <td>https://www.latercera.com/el-deportivo/noticia...</td>\n",
       "      <td>LA TERCERA</td>\n",
       "      <td>news</td>\n",
       "      <td>latercera.com</td>\n",
       "      <td>10:54:21</td>\n",
       "      <td>2024-07-10 10:54:21+00:00</td>\n",
       "    </tr>\n",
       "    <tr>\n",
       "      <th>52980</th>\n",
       "      <td>Histórico arquero celeste ningunea al Maestro:...</td>\n",
       "      <td>Rodolfo Rodríguez, campeón en la Copa América ...</td>\n",
       "      <td>2024-07-10</td>\n",
       "      <td>https://www.latercera.com/el-deportivo/noticia...</td>\n",
       "      <td>LA TERCERA</td>\n",
       "      <td>news</td>\n",
       "      <td>latercera.com</td>\n",
       "      <td>17:01:23</td>\n",
       "      <td>2024-07-10 17:01:23+00:00</td>\n",
       "    </tr>\n",
       "  </tbody>\n",
       "</table>\n",
       "<p>52981 rows × 9 columns</p>\n",
       "</div>"
      ],
      "text/plain": [
       "                                                   title  \\\n",
       "0      Revelan a cuánto asciende la fortuna de Belind...   \n",
       "1      Cuatro consejos de Harvard para incluir en la ...   \n",
       "2      \"Nace y el doctor me dice 'no es recomendable ...   \n",
       "3      \"El me quería tirar por el balcón... '¡Por fav...   \n",
       "4      Llevaban 25 años juntos y se \"desencontraron c...   \n",
       "...                                                  ...   \n",
       "52976  Declaran culpable a Eduardo Macaya por dos del...   \n",
       "52977  Gran Hermano Argentina definió a su ganador: s...   \n",
       "52978  \"El huaso Waldo\": televidentes de Gran Hermano...   \n",
       "52979  Con el regreso de Messi al gol: Argentina venc...   \n",
       "52980  Histórico arquero celeste ningunea al Maestro:...   \n",
       "\n",
       "                                                    body        date  \\\n",
       "0      Desde que Christian Nodal y Ángela Aguilar gri...  2024-07-01   \n",
       "1      Los expertos en nutrición de la entidad compar...  2024-07-01   \n",
       "2      \"Hoy puedo hablarlo sin llorar a moco tendido....  2024-07-01   \n",
       "3      \"Siempre me pegaba en la cara. Es como que él ...  2024-07-01   \n",
       "4      \"La vida cambia\", es una verdad que mencionó J...  2024-07-01   \n",
       "...                                                  ...         ...   \n",
       "52976  Fue condenado como autor de dos delitos de abu...  2024-07-10   \n",
       "52977  Este domingo la versión trasandina de Gran Her...  2024-07-08   \n",
       "52978  El reality de CHV Gran Hermano 2 ha generado c...  2024-07-13   \n",
       "52979  La Albiceleste ganó 2-0 con goles de Julián Ál...  2024-07-10   \n",
       "52980  Rodolfo Rodríguez, campeón en la Copa América ...  2024-07-10   \n",
       "\n",
       "                                                     url   source_title  \\\n",
       "0      https://www.lared.cl/2024/noticias/revelan-a-c...         La Red   \n",
       "1      https://www.encancha.cl/enlahora/bienestar/202...      En Cancha   \n",
       "2      https://glamorama.latercera.com/noticias/2024/...      Glamorama   \n",
       "3      https://glamorama.latercera.com/noticias/2024/...      Glamorama   \n",
       "4      https://glamorama.latercera.com/sin-categoria/...      Glamorama   \n",
       "...                                                  ...            ...   \n",
       "52976  https://www.elrancaguino.cl/2024/07/10/declara...  El Rancagüino   \n",
       "52977  https://www.biobiochile.cl/noticias/espectacul...    BioBioChile   \n",
       "52978  https://www.biobiochile.cl/noticias/espectacul...    BioBioChile   \n",
       "52979  https://www.latercera.com/el-deportivo/noticia...     LA TERCERA   \n",
       "52980  https://www.latercera.com/el-deportivo/noticia...     LA TERCERA   \n",
       "\n",
       "      source_dataType               source_uri      time  \\\n",
       "0                news                 lared.cl  16:15:22   \n",
       "1                news              encancha.cl  17:34:57   \n",
       "2                news  glamorama.latercera.com  18:33:15   \n",
       "3                news  glamorama.latercera.com  02:29:58   \n",
       "4                news  glamorama.latercera.com  02:14:50   \n",
       "...               ...                      ...       ...   \n",
       "52976            news          elrancaguino.cl  19:49:58   \n",
       "52977            news           biobiochile.cl  20:14:09   \n",
       "52978            news           biobiochile.cl  16:31:38   \n",
       "52979            news            latercera.com  10:54:21   \n",
       "52980            news            latercera.com  17:01:23   \n",
       "\n",
       "                       dateTime  \n",
       "0     2024-07-01 16:15:22+00:00  \n",
       "1     2024-07-01 17:34:57+00:00  \n",
       "2     2024-07-01 18:33:15+00:00  \n",
       "3     2024-07-01 02:29:58+00:00  \n",
       "4     2024-07-01 02:14:50+00:00  \n",
       "...                         ...  \n",
       "52976 2024-07-10 19:49:58+00:00  \n",
       "52977 2024-07-08 20:14:09+00:00  \n",
       "52978 2024-07-13 16:31:38+00:00  \n",
       "52979 2024-07-10 10:54:21+00:00  \n",
       "52980 2024-07-10 17:01:23+00:00  \n",
       "\n",
       "[52981 rows x 9 columns]"
      ]
     },
     "execution_count": 15,
     "metadata": {},
     "output_type": "execute_result"
    }
   ],
   "source": [
    "df"
   ]
  },
  {
   "cell_type": "markdown",
   "metadata": {},
   "source": [
    "# Nlp"
   ]
  },
  {
   "cell_type": "code",
   "execution_count": 109,
   "metadata": {},
   "outputs": [],
   "source": [
    "df = pd.read_csv('../base/noticias_temas.csv')\n",
    "df = df.drop_duplicates(subset='title', keep='first')"
   ]
  },
  {
   "cell_type": "code",
   "execution_count": null,
   "metadata": {},
   "outputs": [],
   "source": [
    "patterns = [\n",
    "    'https://www.biobiochile.cl/noticias/economia/',\n",
    "    'https://www.biobiochile.cl/noticias/nacional/',\n",
    "    'https://www.chilevision.cl/contigo-en-la-manana/politica/',\n",
    "    'https://www.df.cl/mercados/pensiones/',\n",
    "    'https://www.df.cl/mercados/bolsa-monedas/',\n",
    "    'https://www.df.cl/economia-y-politica/',\n",
    "    'https://www.df.cl/empresas/',\n",
    "    'https://cooperativa.cl/noticias/economia/',\n",
    "    'https://cooperativa.cl/noticias/pais/',\n",
    "    'https://www.latercera.com/politica/',\n",
    "    'https://www.latercera.com/pulso/noticia/',\n",
    "    'https://www.latercera.com/nacional/',\n",
    "    'https://www.cnnchile.com/pais/',\n",
    "    'https://www.cnnchile.com/economia/',\n",
    "    'https://www.radioagricultura.cl/economia/',\n",
    "    'https://www.radioagricultura.cl/nacional/',\n",
    "    'https://www.radioagricultura.cl/politica/',\n",
    "    'https://www.24horas.cl/actualidad/politica/',\n",
    "    'https://www.eldinamo.cl/politica/',\n",
    "    'https://www.eldinamo.cl/d-economia/',\n",
    "    'https://www.elciudadano.com/economia/',\n",
    "    'https://www.t13.cl/noticia/politica/',\n",
    "    'https://www.t13.cl/noticia/elecciones-2024/',\n",
    "    'https://www.t13.cl/noticia/nacional/',\n",
    "    'https://www.elobservatodo.cl/noticia/economia/',\n",
    "    'https://www.elobservatodo.cl/noticia/politica/',\n",
    "    'https://www.elmorrocotudo.cl/noticia/economia/',\n",
    "    'https://www.emol.com/noticias/Economia/',\n",
    "    'https://www.elamaule.cl/noticia/economia/',\n",
    "    'https://www.elamaule.cl/noticia/politica/',\n",
    "    'https://www.elmostrador.cl/politica/',\n",
    "    'https://www.elciudadano.com/politica/',\n",
    "    'https://www.elciudadano.com/economia/'\n",
    "]\n",
    "\n",
    "df = df[df['url'].apply(lambda x: any(x.startswith(pattern) for pattern in patterns))]\n"
   ]
  },
  {
   "cell_type": "code",
   "execution_count": 103,
   "metadata": {},
   "outputs": [
    {
     "data": {
      "text/plain": [
       "4121"
      ]
     },
     "execution_count": 103,
     "metadata": {},
     "output_type": "execute_result"
    }
   ],
   "source": [
    "len(df)"
   ]
  },
  {
   "cell_type": "code",
   "execution_count": null,
   "metadata": {},
   "outputs": [],
   "source": [
    "# Sea df = pd.DataFrame({ 'body': [...]})\n",
    "# df_resultante = extraer_personas_y_longitud(df)"
   ]
  },
  {
   "cell_type": "markdown",
   "metadata": {},
   "source": [
    "# Prefilter"
   ]
  },
  {
   "cell_type": "code",
   "execution_count": 111,
   "metadata": {},
   "outputs": [],
   "source": [
    "df['title_body'] = \"Titulo de la noticia:\\n\" + df['title'] + \"\\nCuerpo de la noticia:\\n\"  + df['body']\n"
   ]
  },
  {
   "cell_type": "code",
   "execution_count": 112,
   "metadata": {},
   "outputs": [
    {
     "name": "stdout",
     "output_type": "stream",
     "text": [
      "Titulo de la noticia:\n",
      "[Video]   \"El que nada hace nada teme\": Vallejo pide no \"ridiculizar\" debate sobre secreto bancario\n",
      "Cuerpo de la noticia:\n",
      "La ministra vocera de Gobierno, Camila Vallejo, pidió no ridiculizar el debate político sobre el levantamiento del secreto bancario. La secretaria de Estado dijo que \"algunos han dicho que el que nada hace nada teme, así que no debería ser una preocupación por las compras de supermercados. De verdad que llevar a ese nivel de debate es ridículo, es ridiculizar, es desestimar la inteligencia del ciudadano y la ciudadana de nuestro país\".\n"
     ]
    }
   ],
   "source": [
    "print(df['title_body'].iloc[0])\n"
   ]
  },
  {
   "cell_type": "code",
   "execution_count": 113,
   "metadata": {},
   "outputs": [
    {
     "data": {
      "text/plain": [
       "6158"
      ]
     },
     "execution_count": 113,
     "metadata": {},
     "output_type": "execute_result"
    }
   ],
   "source": [
    "df = df.sort_values(by='numero_personas', ascending=False)\n",
    "df = df[df['numero_personas'] < 60]\n",
    "df = df[df['numero_personas']  > 1]\n",
    "len(df)"
   ]
  }
 ],
 "metadata": {
  "kernelspec": {
   "display_name": "Python 3",
   "language": "python",
   "name": "python3"
  },
  "language_info": {
   "codemirror_mode": {
    "name": "ipython",
    "version": 3
   },
   "file_extension": ".py",
   "mimetype": "text/x-python",
   "name": "python",
   "nbconvert_exporter": "python",
   "pygments_lexer": "ipython3",
   "version": "3.12.5"
  }
 },
 "nbformat": 4,
 "nbformat_minor": 2
}
